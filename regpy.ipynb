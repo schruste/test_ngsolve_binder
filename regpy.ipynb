{
 "cells": [
  {
   "cell_type": "code",
   "execution_count": null,
   "metadata": {},
   "outputs": [],
   "source": [
    "import logging\n",
    "import ngsolve as ngs\n",
    "from ngsolve.meshes import MakeQuadMesh\n",
    "import numpy as np\n",
    "\n",
    "import regpy.stoprules as rules\n",
    "from regpy.operators.ngsolve import Coefficient\n",
    "from regpy.solvers import HilbertSpaceSetting\n",
    "from regpy.solvers.landweber import Landweber\n",
    "from regpy.hilbert import L2, Sobolev\n",
    "from regpy.discrs.ngsolve import NgsSpace"
   ]
  },
  {
   "cell_type": "code",
   "execution_count": null,
   "metadata": {},
   "outputs": [],
   "source": [
    "logging.basicConfig(\n",
    "    level=logging.INFO,\n",
    "    format='%(asctime)s %(levelname)s %(name)-40s :: %(message)s'\n",
    ")"
   ]
  },
  {
   "cell_type": "code",
   "execution_count": null,
   "metadata": {},
   "outputs": [],
   "source": [
    "meshsize_domain = 10\n",
    "meshsize_codomain = 10\n",
    "\n",
    "mesh = MakeQuadMesh(meshsize_domain)\n",
    "fes_domain = ngs.L2(mesh, order=2)\n",
    "domain = NgsSpace(fes_domain)\n",
    "\n",
    "mesh = MakeQuadMesh(meshsize_codomain)\n",
    "fes_codomain = ngs.H1(mesh, order=3, dirichlet=\"left|top|right|bottom\")\n",
    "codomain = NgsSpace(fes_codomain)"
   ]
  },
  {
   "cell_type": "code",
   "execution_count": null,
   "metadata": {},
   "outputs": [],
   "source": [
    "rhs = 10 * ngs.sin(ngs.x) * ngs.sin(ngs.y)\n",
    "op = Coefficient(\n",
    "    domain, rhs, codomain=codomain, bc_left=0, bc_right=0, bc_bottom=0, bc_top=0, diffusion=False,\n",
    "    reaction=True, dim=2\n",
    ")"
   ]
  },
  {
   "cell_type": "code",
   "execution_count": null,
   "metadata": {},
   "outputs": [],
   "source": [
    "exact_solution_coeff = ngs.x + 1\n",
    "gfu_exact_solution = ngs.GridFunction(op.fes_domain)\n",
    "gfu_exact_solution.Set(exact_solution_coeff)\n",
    "exact_solution = gfu_exact_solution.vec.FV().NumPy()\n",
    "exact_data = op(exact_solution)"
   ]
  },
  {
   "cell_type": "code",
   "execution_count": null,
   "metadata": {},
   "outputs": [],
   "source": [
    "fes_noise=ngs.L2(fes_codomain.mesh, order=1)\n",
    "gfu_noise_order1=ngs.GridFunction(fes_noise)\n",
    "gfu_noise_order1.vec.FV().NumPy()[:]=0.0001*np.random.randn(fes_noise.ndof)\n",
    "gfu_noise=ngs.GridFunction(fes_codomain)\n",
    "gfu_noise.Set(gfu_noise_order1)\n",
    "noise=gfu_noise.vec.FV().NumPy()"
   ]
  },
  {
   "cell_type": "code",
   "execution_count": null,
   "metadata": {},
   "outputs": [],
   "source": [
    "data = exact_data+noise"
   ]
  },
  {
   "cell_type": "code",
   "execution_count": null,
   "metadata": {},
   "outputs": [],
   "source": [
    "init = 1 + ngs.x + 5*ngs.x*(1-ngs.x)*ngs.y*(1-ngs.y)\n",
    "\n",
    "init_gfu = ngs.GridFunction(op.fes_domain)\n",
    "init_gfu.Set(init)\n",
    "init_solution = init_gfu.vec.FV().NumPy().copy()\n",
    "init_data = op(init_solution)"
   ]
  },
  {
   "cell_type": "code",
   "execution_count": null,
   "metadata": {},
   "outputs": [],
   "source": [
    "setting = HilbertSpaceSetting(op=op, Hdomain=L2, Hcodomain=Sobolev)"
   ]
  },
  {
   "cell_type": "code",
   "execution_count": null,
   "metadata": {},
   "outputs": [],
   "source": [
    "landweber = Landweber(setting, data, init_solution, stepsize=1)\n",
    "stoprule = (\n",
    "        rules.CountIterations(1000) +\n",
    "        rules.Discrepancy(setting.Hcodomain.norm, data, noiselevel=setting.Hcodomain.norm(noise), tau=1.1))"
   ]
  },
  {
   "cell_type": "code",
   "execution_count": null,
   "metadata": {},
   "outputs": [],
   "source": [
    "reco, reco_data = landweber.run(stoprule)"
   ]
  },
  {
   "cell_type": "code",
   "execution_count": null,
   "metadata": {},
   "outputs": [],
   "source": [
    "gfu_reco = ngs.GridFunction(op.fes_domain)\n",
    "gfu_data = ngs.GridFunction(op.fes_codomain)\n",
    "gfu_reco_data = ngs.GridFunction(op.fes_codomain)\n",
    "\n",
    "gfu_reco.vec.FV().NumPy()[:] = reco\n",
    "gfu_data.vec.FV().NumPy()[:] = data\n",
    "gfu_reco_data.vec.FV().NumPy()[:] = reco_data"
   ]
  },
  {
   "cell_type": "code",
   "execution_count": null,
   "metadata": {},
   "outputs": [],
   "source": [
    "error = exact_solution_coeff-gfu_reco\n",
    "vtkout = ngs.VTKOutput(mesh, coefs=[exact_solution_coeff, init, gfu_reco, gfu_data, gfu_reco_data, error], \n",
    "                       names =[\"exact\",\"init\",\"reco\",\"data\",\"reco_data\",\"error_reco\"], \n",
    "                       filename = \"reac_coef\", subdivision=2)\n",
    "vtkout.Do()"
   ]
  },
  {
   "cell_type": "code",
   "execution_count": null,
   "metadata": {},
   "outputs": [],
   "source": [
    "#%matplotlib inline\n",
    "#from pyvista import set_plot_theme\n",
    "#set_plot_theme('document')"
   ]
  },
  {
   "cell_type": "code",
   "execution_count": null,
   "metadata": {},
   "outputs": [],
   "source": [
    "import pyvista as pv\n",
    "plot_mesh = pv.read('reac_coef.vtk')\n",
    "plot_mesh2 = plot_mesh.copy()\n"
   ]
  },
  {
   "cell_type": "code",
   "execution_count": null,
   "metadata": {},
   "outputs": [],
   "source": [
    "p = pv.Plotter()\n",
    "plot_mesh_reco= plot_mesh2.warp_by_scalar(\"reco\",normal=(0,0,1),factor=1)\n",
    "p.add_mesh(plot_mesh, scalars=\"reco\")\n",
    "p.show(use_panel=False)\n"
   ]
  },
  {
   "cell_type": "code",
   "execution_count": null,
   "metadata": {},
   "outputs": [],
   "source": [
    "p = pv.Plotter()\n",
    "plot_mesh_exact = plot_mesh.warp_by_scalar(\"exact\",normal=(0,0,1),factor=1)\n",
    "p.add_mesh(plot_mesh, scalars=\"exact\") \n",
    "p.show(use_panel=False)"
   ]
  },
  {
   "cell_type": "code",
   "execution_count": null,
   "metadata": {},
   "outputs": [],
   "source": [
    "p = pv.Plotter()\n",
    "plot_mesh_error = plot_mesh.warp_by_scalar(\"error_reco\",normal=(0,0,1),factor=1)\n",
    "p.add_mesh(plot_mesh_error, scalars=\"error_reco\") \n",
    "p.show(use_panel=False)"
   ]
  },
  {
   "cell_type": "code",
   "execution_count": null,
   "metadata": {},
   "outputs": [],
   "source": []
  }
 ],
 "metadata": {
  "kernelspec": {
   "display_name": "Python 3",
   "language": "python",
   "name": "python3"
  },
  "language_info": {
   "codemirror_mode": {
    "name": "ipython",
    "version": 3
   },
   "file_extension": ".py",
   "mimetype": "text/x-python",
   "name": "python",
   "nbconvert_exporter": "python",
   "pygments_lexer": "ipython3",
   "version": "3.8.2"
  },
  "toc": {
   "base_numbering": 1,
   "nav_menu": {},
   "number_sections": true,
   "sideBar": true,
   "skip_h1_title": false,
   "title_cell": "Table of Contents",
   "title_sidebar": "Contents",
   "toc_cell": false,
   "toc_position": {},
   "toc_section_display": true,
   "toc_window_display": false
  }
 },
 "nbformat": 4,
 "nbformat_minor": 4
}
